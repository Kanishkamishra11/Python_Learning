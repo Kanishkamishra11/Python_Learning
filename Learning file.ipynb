{
 "cells": [
  {
   "cell_type": "markdown",
   "id": "59c97829-4cf3-4ddd-ae8c-0f3d45c857f3",
   "metadata": {},
   "source": [
    "# Module 1"
   ]
  },
  {
   "cell_type": "markdown",
   "id": "7b467a56-3593-4d36-bd36-9ee240394d58",
   "metadata": {},
   "source": [
    "## Numbers and Data Set"
   ]
  },
  {
   "cell_type": "code",
   "execution_count": 1,
   "id": "01569b29-a745-4749-8ef8-348f3a8b12f3",
   "metadata": {},
   "outputs": [
    {
     "data": {
      "text/plain": [
       "int"
      ]
     },
     "execution_count": 1,
     "metadata": {},
     "output_type": "execute_result"
    }
   ],
   "source": [
    "type(11)"
   ]
  },
  {
   "cell_type": "code",
   "execution_count": 4,
   "id": "a4824d72-0f22-4822-801d-4160ce49b4a3",
   "metadata": {},
   "outputs": [
    {
     "data": {
      "text/plain": [
       "float"
      ]
     },
     "execution_count": 4,
     "metadata": {},
     "output_type": "execute_result"
    }
   ],
   "source": [
    "type(11.11)"
   ]
  },
  {
   "cell_type": "code",
   "execution_count": 5,
   "id": "cd5948fd-a044-4761-acde-8b04a31b8c70",
   "metadata": {},
   "outputs": [
    {
     "data": {
      "text/plain": [
       "str"
      ]
     },
     "execution_count": 5,
     "metadata": {},
     "output_type": "execute_result"
    }
   ],
   "source": [
    "type(\"Kanishka\")"
   ]
  },
  {
   "cell_type": "code",
   "execution_count": 6,
   "id": "f62b179a-8e23-4551-9f5b-837c6fe55038",
   "metadata": {},
   "outputs": [
    {
     "data": {
      "text/plain": [
       "int"
      ]
     },
     "execution_count": 6,
     "metadata": {},
     "output_type": "execute_result"
    }
   ],
   "source": [
    "type(-7)"
   ]
  },
  {
   "cell_type": "code",
   "execution_count": 8,
   "id": "ae5cd1d9-512c-49f9-b570-c5a7ad964eb9",
   "metadata": {},
   "outputs": [
    {
     "data": {
      "text/plain": [
       "bool"
      ]
     },
     "execution_count": 8,
     "metadata": {},
     "output_type": "execute_result"
    }
   ],
   "source": [
    "type(True)"
   ]
  },
  {
   "cell_type": "markdown",
   "id": "9a35ad80-3196-473f-91eb-ddcf9dd259e7",
   "metadata": {},
   "source": [
    "## Converting the data set"
   ]
  },
  {
   "cell_type": "code",
   "execution_count": 10,
   "id": "1325f951-fde8-48d9-808b-e53f5655ffb7",
   "metadata": {},
   "outputs": [
    {
     "data": {
      "text/plain": [
       "3"
      ]
     },
     "execution_count": 10,
     "metadata": {},
     "output_type": "execute_result"
    }
   ],
   "source": [
    "int(3.14)"
   ]
  },
  {
   "cell_type": "code",
   "execution_count": 11,
   "id": "d166b4a3-59b6-49b4-ab38-caa7306ead41",
   "metadata": {},
   "outputs": [
    {
     "data": {
      "text/plain": [
       "3.0"
      ]
     },
     "execution_count": 11,
     "metadata": {},
     "output_type": "execute_result"
    }
   ],
   "source": [
    "float(3)"
   ]
  },
  {
   "cell_type": "code",
   "execution_count": 12,
   "id": "6216fdbb-c65b-49a7-b71d-b2e699640836",
   "metadata": {},
   "outputs": [
    {
     "data": {
      "text/plain": [
       "1"
      ]
     },
     "execution_count": 12,
     "metadata": {},
     "output_type": "execute_result"
    }
   ],
   "source": [
    "int(True)"
   ]
  },
  {
   "cell_type": "code",
   "execution_count": 13,
   "id": "3a924d3e-a230-4e77-abcf-7b53e9ca58e3",
   "metadata": {},
   "outputs": [
    {
     "data": {
      "text/plain": [
       "0"
      ]
     },
     "execution_count": 13,
     "metadata": {},
     "output_type": "execute_result"
    }
   ],
   "source": [
    "int(False)"
   ]
  },
  {
   "cell_type": "code",
   "execution_count": 15,
   "id": "b6a5b0f4-dc9c-4025-a75b-e2b97d4abaa5",
   "metadata": {},
   "outputs": [
    {
     "data": {
      "text/plain": [
       "'3'"
      ]
     },
     "execution_count": 15,
     "metadata": {},
     "output_type": "execute_result"
    }
   ],
   "source": [
    "str(3)"
   ]
  },
  {
   "cell_type": "markdown",
   "id": "accf15f6-8a77-40a8-a996-a6516de91242",
   "metadata": {},
   "source": [
    "## Expressions and Variables"
   ]
  },
  {
   "cell_type": "code",
   "execution_count": 16,
   "id": "d1e78f04-da6c-4433-a3df-c51526d2bb3c",
   "metadata": {},
   "outputs": [
    {
     "data": {
      "text/plain": [
       "5.5"
      ]
     },
     "execution_count": 16,
     "metadata": {},
     "output_type": "execute_result"
    }
   ],
   "source": [
    "11/2"
   ]
  },
  {
   "cell_type": "code",
   "execution_count": 17,
   "id": "ae4bde4b-f215-4789-952b-d6f4dfae051c",
   "metadata": {},
   "outputs": [
    {
     "data": {
      "text/plain": [
       "5"
      ]
     },
     "execution_count": 17,
     "metadata": {},
     "output_type": "execute_result"
    }
   ],
   "source": [
    "11//2"
   ]
  },
  {
   "cell_type": "code",
   "execution_count": 18,
   "id": "a0c864a7-67c7-44dc-9e48-d7b4643e6e68",
   "metadata": {},
   "outputs": [
    {
     "data": {
      "text/plain": [
       "1920"
      ]
     },
     "execution_count": 18,
     "metadata": {},
     "output_type": "execute_result"
    }
   ],
   "source": [
    "(30+2)*60"
   ]
  },
  {
   "cell_type": "code",
   "execution_count": 19,
   "id": "2069c38a-e09d-427d-aed6-b05e16adba59",
   "metadata": {},
   "outputs": [],
   "source": [
    "p=25"
   ]
  },
  {
   "cell_type": "code",
   "execution_count": 20,
   "id": "2c9bf6e4-d328-46af-ac81-b6ccdc0a9978",
   "metadata": {},
   "outputs": [
    {
     "data": {
      "text/plain": [
       "50"
      ]
     },
     "execution_count": 20,
     "metadata": {},
     "output_type": "execute_result"
    }
   ],
   "source": [
    "p*2"
   ]
  },
  {
   "cell_type": "code",
   "execution_count": 21,
   "id": "c9ce5a84-5149-4b04-ba3f-67744d501dc0",
   "metadata": {},
   "outputs": [
    {
     "data": {
      "text/plain": [
       "625"
      ]
     },
     "execution_count": 21,
     "metadata": {},
     "output_type": "execute_result"
    }
   ],
   "source": [
    "p**2"
   ]
  },
  {
   "cell_type": "code",
   "execution_count": 37,
   "id": "f2d5382b-ff9a-4a61-ab79-5c8635f9b7fd",
   "metadata": {},
   "outputs": [],
   "source": [
    "x=100"
   ]
  },
  {
   "cell_type": "code",
   "execution_count": 35,
   "id": "d84b4a95-a9fe-42fd-b0b5-7603b3551033",
   "metadata": {},
   "outputs": [],
   "source": [
    "y=20"
   ]
  },
  {
   "cell_type": "code",
   "execution_count": 38,
   "id": "ce71b24c-b958-4865-a790-5dd708a66652",
   "metadata": {},
   "outputs": [
    {
     "data": {
      "text/plain": [
       "2000"
      ]
     },
     "execution_count": 38,
     "metadata": {},
     "output_type": "execute_result"
    }
   ],
   "source": [
    "x*y\n"
   ]
  },
  {
   "cell_type": "markdown",
   "id": "2ff5ae40-01eb-4444-ac27-5d65ea3fcaed",
   "metadata": {},
   "source": [
    "## Strings"
   ]
  },
  {
   "cell_type": "code",
   "execution_count": 39,
   "id": "524cfc72-ba38-4e96-b9b3-c148476138ee",
   "metadata": {},
   "outputs": [],
   "source": [
    "Name=\"Shashank\""
   ]
  },
  {
   "cell_type": "code",
   "execution_count": 41,
   "id": "0c068b68-e2f9-473d-9d71-1032be3ffdf6",
   "metadata": {},
   "outputs": [
    {
     "data": {
      "text/plain": [
       "'k'"
      ]
     },
     "execution_count": 41,
     "metadata": {},
     "output_type": "execute_result"
    }
   ],
   "source": [
    "Name[-1]"
   ]
  },
  {
   "cell_type": "code",
   "execution_count": 42,
   "id": "89c3e7fa-dc21-4ad1-8166-4e8099f16d07",
   "metadata": {},
   "outputs": [
    {
     "data": {
      "text/plain": [
       "'a'"
      ]
     },
     "execution_count": 42,
     "metadata": {},
     "output_type": "execute_result"
    }
   ],
   "source": [
    "Name[2]"
   ]
  },
  {
   "cell_type": "code",
   "execution_count": 44,
   "id": "6ce0cde7-9c6b-4079-81df-73f2178eabcf",
   "metadata": {},
   "outputs": [
    {
     "data": {
      "text/plain": [
       "'Shash'"
      ]
     },
     "execution_count": 44,
     "metadata": {},
     "output_type": "execute_result"
    }
   ],
   "source": [
    "Name[0:5]"
   ]
  },
  {
   "cell_type": "code",
   "execution_count": null,
   "id": "594d7909-1ca6-446d-b50a-7f64a11737e6",
   "metadata": {},
   "outputs": [],
   "source": []
  }
 ],
 "metadata": {
  "kernelspec": {
   "display_name": "Python 3 (ipykernel)",
   "language": "python",
   "name": "python3"
  },
  "language_info": {
   "codemirror_mode": {
    "name": "ipython",
    "version": 3
   },
   "file_extension": ".py",
   "mimetype": "text/x-python",
   "name": "python",
   "nbconvert_exporter": "python",
   "pygments_lexer": "ipython3",
   "version": "3.12.4"
  }
 },
 "nbformat": 4,
 "nbformat_minor": 5
}
